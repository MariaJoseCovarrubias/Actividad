{
 "cells": [
  {
   "cell_type": "code",
   "execution_count": 2,
   "metadata": {},
   "outputs": [
    {
     "name": "stdout",
     "output_type": "stream",
     "text": [
      "                                                 url  \\\n",
      "0  https://twitter.com/ShashiRajbhar6/status/1376...   \n",
      "1  https://twitter.com/kaursuk06272818/status/137...   \n",
      "2  https://twitter.com/kaursuk06272818/status/137...   \n",
      "3  https://twitter.com/SukhdevSingh_/status/13767...   \n",
      "4  https://twitter.com/Davidmu66668113/status/137...   \n",
      "\n",
      "                       date  \\\n",
      "0 2021-03-30 03:33:46+00:00   \n",
      "1 2021-03-30 03:33:23+00:00   \n",
      "2 2021-03-30 03:31:00+00:00   \n",
      "3 2021-03-30 03:30:45+00:00   \n",
      "4 2021-03-30 03:30:30+00:00   \n",
      "\n",
      "                                             content  \\\n",
      "0                       Support 👇\\n\\n#FarmersProtest   \n",
      "1  Supporting farmers means supporting our countr...   \n",
      "2  Support farmers if you are related to food #St...   \n",
      "3  #StopHateAgainstFarmers support #FarmersProtes...   \n",
      "4  You hate farmers I hate you, \\nif you love the...   \n",
      "\n",
      "                                     renderedContent                   id  \\\n",
      "0                       Support 👇\\n\\n#FarmersProtest  1376739399593910273   \n",
      "1  Supporting farmers means supporting our countr...  1376739306287427584   \n",
      "2  Support farmers if you are related to food #St...  1376738704128020488   \n",
      "3  #StopHateAgainstFarmers support #FarmersProtes...  1376738640542400518   \n",
      "4  You hate farmers I hate you, \\nif you love the...  1376738579171344386   \n",
      "\n",
      "                                                user outlinks tcooutlinks  \\\n",
      "0  {'username': 'ShashiRajbhar6', 'displayname': ...       []          []   \n",
      "1  {'username': 'kaursuk06272818', 'displayname':...       []          []   \n",
      "2  {'username': 'kaursuk06272818', 'displayname':...       []          []   \n",
      "3  {'username': 'SukhdevSingh_', 'displayname': '...       []          []   \n",
      "4  {'username': 'Davidmu66668113', 'displayname':...       []          []   \n",
      "\n",
      "   replyCount  retweetCount  ...  quoteCount       conversationId  lang  \\\n",
      "0           0             0  ...           0  1376739399593910273    en   \n",
      "1           0             0  ...           0  1376739306287427584    en   \n",
      "2           0             0  ...           0  1376738704128020488    en   \n",
      "3           0             1  ...           0  1376738640542400518    en   \n",
      "4           0             0  ...           0  1376738579171344386    en   \n",
      "\n",
      "                                              source  \\\n",
      "0  <a href=\"http://twitter.com/download/android\" ...   \n",
      "1  <a href=\"http://twitter.com/download/android\" ...   \n",
      "2  <a href=\"http://twitter.com/download/android\" ...   \n",
      "3  <a href=\"http://twitter.com/download/android\" ...   \n",
      "4  <a href=\"http://twitter.com/download/android\" ...   \n",
      "\n",
      "                             sourceUrl          sourceLabel  \\\n",
      "0  http://twitter.com/download/android  Twitter for Android   \n",
      "1  http://twitter.com/download/android  Twitter for Android   \n",
      "2  http://twitter.com/download/android  Twitter for Android   \n",
      "3  http://twitter.com/download/android  Twitter for Android   \n",
      "4  http://twitter.com/download/android  Twitter for Android   \n",
      "\n",
      "                                               media retweetedTweet  \\\n",
      "0                                               None            NaN   \n",
      "1  [{'previewUrl': 'https://pbs.twimg.com/media/E...            NaN   \n",
      "2  [{'previewUrl': 'https://pbs.twimg.com/media/E...            NaN   \n",
      "3                                               None            NaN   \n",
      "4                                               None            NaN   \n",
      "\n",
      "   quotedTweet mentionedUsers  \n",
      "0         None           None  \n",
      "1         None           None  \n",
      "2         None           None  \n",
      "3         None           None  \n",
      "4         None           None  \n",
      "\n",
      "[5 rows x 21 columns]\n"
     ]
    }
   ],
   "source": [
    "import pandas as pd\n",
    "\n",
    "def main():\n",
    "    data = pd.read_json('../Actividad_Capstone/tweets.json', lines=True)\n"
   ]
  }
 ],
 "metadata": {
  "interpreter": {
   "hash": "b0fa6594d8f4cbf19f97940f81e996739fb7646882a419484c72d19e05852a7e"
  },
  "kernelspec": {
   "display_name": "Python 3.9.10 64-bit",
   "language": "python",
   "name": "python3"
  },
  "language_info": {
   "codemirror_mode": {
    "name": "ipython",
    "version": 3
   },
   "file_extension": ".py",
   "mimetype": "text/x-python",
   "name": "python",
   "nbconvert_exporter": "python",
   "pygments_lexer": "ipython3",
   "version": "3.9.10"
  },
  "orig_nbformat": 4
 },
 "nbformat": 4,
 "nbformat_minor": 2
}
